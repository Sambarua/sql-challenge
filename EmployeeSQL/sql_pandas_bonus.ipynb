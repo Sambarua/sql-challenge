{
 "cells": [
  {
   "cell_type": "markdown",
   "id": "abf9715c",
   "metadata": {},
   "source": [
    "# SQL database from postgreSQL to Pandas"
   ]
  },
  {
   "cell_type": "markdown",
   "id": "c086eea3",
   "metadata": {},
   "source": [
    "### Import dependencies "
   ]
  },
  {
   "cell_type": "code",
   "execution_count": null,
   "id": "86595040",
   "metadata": {},
   "outputs": [],
   "source": [
    "# SQLAlchemy\n",
    "from sqlalchemy import create_engine\n",
    "# Pandas\n",
    "import pandas as pd\n",
    "# Dependencies\n",
    "import matplotlib.pyplot as plt\n",
    "import numpy as np"
   ]
  },
  {
   "cell_type": "markdown",
   "id": "e608375e",
   "metadata": {},
   "source": [
    "### Create Engine and connect to postgreSQL databases"
   ]
  },
  {
   "cell_type": "code",
   "execution_count": null,
   "id": "b25d3d26",
   "metadata": {},
   "outputs": [],
   "source": [
    "# Create an engine that can talk to the database\n",
    "# engine = create_engine('postgresql://localhost:5432/SQL_HW_Test')\n",
    "engine = create_engine('postgresql://localhost:5432/employee2_db')\n",
    "conn = engine.connect()"
   ]
  },
  {
   "cell_type": "markdown",
   "id": "96a64099",
   "metadata": {},
   "source": [
    "### Read the databases for titles and salaries into dataframes"
   ]
  },
  {
   "cell_type": "code",
   "execution_count": null,
   "id": "573d53a3",
   "metadata": {},
   "outputs": [],
   "source": [
    "# Query All Records in the the Database\n",
    "titles_pd = pd.read_sql(\"SELECT * FROM titles\", conn)\n",
    "titles_pd.head()"
   ]
  },
  {
   "cell_type": "code",
   "execution_count": null,
   "id": "1691b20c",
   "metadata": {},
   "outputs": [],
   "source": [
    "salary_pd = pd.read_sql(\"SELECT * FROM salary\", conn)\n",
    "salary_pd.head()"
   ]
  },
  {
   "cell_type": "code",
   "execution_count": null,
   "id": "20bf0525",
   "metadata": {},
   "outputs": [],
   "source": [
    "combined = pd.merge(titles_pd,salary_pd,on=\"emp_no\")\n",
    "combined.head()"
   ]
  },
  {
   "cell_type": "code",
   "execution_count": null,
   "id": "d91b0d7d",
   "metadata": {},
   "outputs": [],
   "source": [
    "combined_grp = combined.groupby(\"title\").mean()\n",
    "combined_grp"
   ]
  },
  {
   "cell_type": "markdown",
   "id": "36cb3e92",
   "metadata": {},
   "source": [
    "### Create bar chart"
   ]
  },
  {
   "cell_type": "code",
   "execution_count": null,
   "id": "cac9232e",
   "metadata": {},
   "outputs": [],
   "source": [
    "plot1 = combined_grp.plot(kind=\"bar\", title=\"Title vs Average Salary\")\n",
    "plot1.set_xlabel(\"Title\")\n",
    "plot1.set_ylabel(\"Average Salary\")\n",
    "plt.savefig(\"Title vs Average Salary.png\")\n",
    "plt.show()"
   ]
  }
 ],
 "metadata": {
  "kernelspec": {
   "display_name": "Python 3",
   "language": "python",
   "name": "python3"
  },
  "language_info": {
   "codemirror_mode": {
    "name": "ipython",
    "version": 3
   },
   "file_extension": ".py",
   "mimetype": "text/x-python",
   "name": "python",
   "nbconvert_exporter": "python",
   "pygments_lexer": "ipython3",
   "version": "3.8.8"
  }
 },
 "nbformat": 4,
 "nbformat_minor": 5
}
